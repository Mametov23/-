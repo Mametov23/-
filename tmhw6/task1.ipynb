{
 "cells": [
  {
   "cell_type": "code",
   "execution_count": 1,
   "metadata": {},
   "outputs": [],
   "source": [
    "import numpy as np\n",
    "import sympy as sp\n",
    "from sympy import Symbol, Ellipse, Point, Line, symbols, Eq, solve"
   ]
  },
  {
   "cell_type": "code",
   "execution_count": 72,
   "metadata": {},
   "outputs": [
    {
     "name": "stdout",
     "output_type": "stream",
     "text": [
      "[{a: 0.00971127247129413, t: 1.72421923493022}, {a: 1.56108505432360, t: 177.542648160970}]\n",
      "hmax=  3.64184166337659\n",
      "a=  0.00971127247129413\n",
      "t=  1.72421923493022\n",
      "hmax=  38613.7050971121\n",
      "a=  1.56108505432360\n",
      "t=  177.542648160970\n"
     ]
    }
   ],
   "source": [
    "a,t = symbols('a t')\n",
    "\n",
    "g = 9.8\n",
    "V0 = 870\n",
    "m = 13,6\n",
    "L = 1500\n",
    "k = 1,3*10**-5\n",
    "y0=0\n",
    "\n",
    "equal=[\n",
    "    Eq(L, V0*t*sp.cos(a)),\n",
    "    Eq(y0, V0*t*sp.sin(a)-(1/2)*g*t**2)\n",
    "]\n",
    "\n",
    "otvet = list(filter(lambda x: x[t]>0, solve(equal, (a, t), dict=True)))\n",
    "print(otvet)\n",
    "\n",
    "for x in otvet: \n",
    "    h =V0*(x[t]/2)*sp.sin(x[a])-(g*((x[t]/2)**2))/2\n",
    "    print('hmax= ', h)\n",
    "    print('a= ', x[a])\n",
    "    print('t= ', x[t])\n"
   ]
  },
  {
   "cell_type": "code",
   "execution_count": null,
   "metadata": {},
   "outputs": [],
   "source": []
  }
 ],
 "metadata": {
  "kernelspec": {
   "display_name": "Python 3",
   "language": "python",
   "name": "python3"
  },
  "language_info": {
   "codemirror_mode": {
    "name": "ipython",
    "version": 3
   },
   "file_extension": ".py",
   "mimetype": "text/x-python",
   "name": "python",
   "nbconvert_exporter": "python",
   "pygments_lexer": "ipython3",
   "version": "3.10.5"
  },
  "orig_nbformat": 4,
  "vscode": {
   "interpreter": {
    "hash": "6ea1cae9ddc06821e9274a5b5ad0f4328a05657540295261e8d232221ad6ff64"
   }
  }
 },
 "nbformat": 4,
 "nbformat_minor": 2
}
